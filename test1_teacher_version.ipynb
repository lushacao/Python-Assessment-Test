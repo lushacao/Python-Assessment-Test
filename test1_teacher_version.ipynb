{
 "cells": [
  {
   "cell_type": "markdown",
   "metadata": {},
   "source": [
    "# Python Assessment Test"
   ]
  },
  {
   "cell_type": "markdown",
   "metadata": {},
   "source": [
    "### Basic python comprehension."
   ]
  },
  {
   "cell_type": "markdown",
   "metadata": {},
   "source": [
    "#### 1. What is used to define a block of code in the body of a loop in Python?\n",
    "A. Parenthesis <br>\n",
    "B. Curly braces <br>\n",
    "C. Quotation <br>\n",
    "D. Indentation <br>"
   ]
  },
  {
   "cell_type": "code",
   "execution_count": null,
   "metadata": {
    "nbgrader": {
     "grade": false,
     "grade_id": "cell-05ff9bfd38f4e51d",
     "locked": false,
     "schema_version": 1,
     "solution": true
    }
   },
   "outputs": [],
   "source": [
    "def answer_one():\n",
    "    '''return the letter of the correct answer'''\n",
    "    ### BEGIN SOLUTION\n",
    "    return 'D'\n",
    "    ### END SOLUTION\n",
    "    "
   ]
  },
  {
   "cell_type": "code",
   "execution_count": null,
   "metadata": {
    "nbgrader": {
     "grade": true,
     "grade_id": "cell-cdf619fa136a3d9a",
     "locked": true,
     "points": 5,
     "schema_version": 1,
     "solution": false
    }
   },
   "outputs": [],
   "source": [
    "################################\n",
    "### BEGIN HIDDEN TESTS\n",
    "assert answer_one().upper() == 'D'\n",
    "### END HIDDEN TESTS"
   ]
  },
  {
   "cell_type": "markdown",
   "metadata": {},
   "source": [
    "#### 2. Which of the following statements is true?\n",
    "A. Python is a high level programming language. <br>\n",
    "B. Python is an object-oriented language. <br>\n",
    "C. Python is an interpreted language. <br>\n",
    "D. All of the above. <br>"
   ]
  },
  {
   "cell_type": "code",
   "execution_count": 10,
   "metadata": {
    "nbgrader": {
     "grade": false,
     "grade_id": "cell-c7b0914806985989",
     "locked": false,
     "schema_version": 1,
     "solution": true
    }
   },
   "outputs": [],
   "source": [
    "def answer_two():\n",
    "    '''return the letter of the correct answer'''\n",
    "    ### BEGIN SOLUTION\n",
    "    return 'D'\n",
    "    ### END SOLUTION"
   ]
  },
  {
   "cell_type": "code",
   "execution_count": 11,
   "metadata": {
    "nbgrader": {
     "grade": true,
     "grade_id": "cell-16fb09fab50fb803",
     "locked": true,
     "points": 5,
     "schema_version": 1,
     "solution": false
    }
   },
   "outputs": [],
   "source": [
    "################################\n",
    "### BEGIN HIDDEN TESTS\n",
    "assert answer_two().upper() == 'D'\n",
    "### END HIDDEN TESTS"
   ]
  },
  {
   "cell_type": "markdown",
   "metadata": {},
   "source": [
    "#### 3. Write a function to concatenate two strings. "
   ]
  },
  {
   "cell_type": "code",
   "execution_count": 2,
   "metadata": {
    "nbgrader": {
     "grade": false,
     "grade_id": "cell-f024c61ce694f401",
     "locked": false,
     "schema_version": 1,
     "solution": true
    }
   },
   "outputs": [],
   "source": [
    "def answer_three(string1, string2):\n",
    "    '''concatenate two strings'''\n",
    "    \n",
    "    ### BEGIN SOLUTION\n",
    "    return string1 + string2\n",
    "    ### END SOLUTION"
   ]
  },
  {
   "cell_type": "markdown",
   "metadata": {},
   "source": [
    "Your function should return `'helloworld'` for `answer_three('hello','world')` Check that it does:"
   ]
  },
  {
   "cell_type": "code",
   "execution_count": 3,
   "metadata": {},
   "outputs": [
    {
     "data": {
      "text/plain": [
       "'helloworld'"
      ]
     },
     "execution_count": 3,
     "metadata": {},
     "output_type": "execute_result"
    }
   ],
   "source": [
    "answer_three('hello','world')"
   ]
  },
  {
   "cell_type": "code",
   "execution_count": null,
   "metadata": {
    "nbgrader": {
     "grade": true,
     "grade_id": "cell-f74436aeb8f4b81e",
     "locked": true,
     "points": 5,
     "schema_version": 1,
     "solution": false
    }
   },
   "outputs": [],
   "source": [
    "\"\"\"Check that answer_three returns the correct output for several inputs\"\"\"\n",
    "assert answer_three('', 'hi') == 'hi'\n",
    "assert answer_three('hi','there') == 'hithere'"
   ]
  },
  {
   "cell_type": "markdown",
   "metadata": {},
   "source": [
    "#### 4. What is the output of the following code? `print(3 >= 3)`\n",
    "A. True <br>\n",
    "B. 3>=3 <br>\n",
    "C. False <br>\n",
    "D. None<br>"
   ]
  },
  {
   "cell_type": "code",
   "execution_count": null,
   "metadata": {
    "nbgrader": {
     "grade": false,
     "grade_id": "cell-f867a7d544cb7831",
     "locked": false,
     "schema_version": 1,
     "solution": true
    }
   },
   "outputs": [],
   "source": [
    "def answer_four():\n",
    "    '''return the letter of the correct answer'''\n",
    "    ### BEGIN SOLUTION\n",
    "    return 'A'\n",
    "    ### END SOLUTION"
   ]
  },
  {
   "cell_type": "code",
   "execution_count": null,
   "metadata": {
    "nbgrader": {
     "grade": true,
     "grade_id": "cell-2fd19eba3cfb4730",
     "locked": true,
     "points": 5,
     "schema_version": 1,
     "solution": false
    }
   },
   "outputs": [],
   "source": [
    "################################\n",
    "### BEGIN HIDDEN TESTS\n",
    "assert answer_four().upper() == 'A'\n",
    "### END HIDDEN TESTS"
   ]
  },
  {
   "cell_type": "markdown",
   "metadata": {},
   "source": [
    "#### 5. if `a='1'` and `b=2` then `a*b` would return?\n",
    "A. 2 <br>\n",
    "B. 1 <br>\n",
    "C. 11 <br>\n",
    "D. Error <br>"
   ]
  },
  {
   "cell_type": "code",
   "execution_count": null,
   "metadata": {
    "nbgrader": {
     "grade": false,
     "grade_id": "cell-af9400f185ab222c",
     "locked": false,
     "schema_version": 1,
     "solution": true
    }
   },
   "outputs": [],
   "source": [
    "def answer_five():\n",
    "    '''return the letter of the correct answer'''\n",
    "    ### BEGIN SOLUTION\n",
    "    return 'C'\n",
    "    ### END SOLUTION"
   ]
  },
  {
   "cell_type": "code",
   "execution_count": null,
   "metadata": {
    "nbgrader": {
     "grade": true,
     "grade_id": "cell-9ed8679aaf8b2b7c",
     "locked": true,
     "points": 5,
     "schema_version": 1,
     "solution": false
    }
   },
   "outputs": [],
   "source": [
    "################################\n",
    "### BEGIN HIDDEN TESTS\n",
    "assert answer_five().upper() == 'C'\n",
    "### END HIDDEN TESTS"
   ]
  },
  {
   "cell_type": "markdown",
   "metadata": {},
   "source": [
    "#### 6. What is the output of the following program? `print((1, 2) + (3, 4))`\n",
    "A. (1, 2, 3, 4) <br>\n",
    "B. (4, 6)<br>\n",
    "C. ((1, 2), (3, 4))<br>\n",
    "D. error<br>"
   ]
  },
  {
   "cell_type": "code",
   "execution_count": null,
   "metadata": {
    "nbgrader": {
     "grade": false,
     "grade_id": "cell-e93851f3589e3035",
     "locked": false,
     "schema_version": 1,
     "solution": true
    }
   },
   "outputs": [],
   "source": [
    "def answer_six():\n",
    "    '''return the letter of the correct answer'''\n",
    "    ### BEGIN SOLUTION\n",
    "    return 'A'\n",
    "    ### END SOLUTION"
   ]
  },
  {
   "cell_type": "code",
   "execution_count": null,
   "metadata": {
    "nbgrader": {
     "grade": true,
     "grade_id": "cell-d95aa2d83df11d7e",
     "locked": true,
     "points": 5,
     "schema_version": 1,
     "solution": false
    }
   },
   "outputs": [],
   "source": [
    "################################\n",
    "### BEGIN HIDDEN TESTS\n",
    "assert answer_six().upper() == 'A'\n",
    "### END HIDDEN TESTS"
   ]
  },
  {
   "cell_type": "markdown",
   "metadata": {},
   "source": [
    "#### 7. Write a function to print the last four elements of a list."
   ]
  },
  {
   "cell_type": "code",
   "execution_count": null,
   "metadata": {
    "nbgrader": {
     "grade": false,
     "grade_id": "cell-d7392ef89a5e0dd8",
     "locked": false,
     "schema_version": 1,
     "solution": true
    }
   },
   "outputs": [],
   "source": [
    "def answer_seven(my_list):\n",
    "    '''print the last four elements'''\n",
    "    \n",
    "    ### BEGIN SOLUTION\n",
    "    return my_list[-4:]\n",
    "    ### END SOLUTION"
   ]
  },
  {
   "cell_type": "markdown",
   "metadata": {},
   "source": [
    "your function should return `['t','h','o','n']` for `answer_seven(['P','y',t','h','o','n'])` Check that it does:"
   ]
  },
  {
   "cell_type": "code",
   "execution_count": null,
   "metadata": {},
   "outputs": [],
   "source": [
    "answer_seven(['P','y','t','h','o','n'])"
   ]
  },
  {
   "cell_type": "code",
   "execution_count": null,
   "metadata": {
    "nbgrader": {
     "grade": true,
     "grade_id": "cell-3897fd7d5954f8a7",
     "locked": true,
     "points": 5,
     "schema_version": 1,
     "solution": false
    }
   },
   "outputs": [],
   "source": [
    "\"\"\"Check that answer_seven returns the correct output for several inputs\"\"\"\n",
    "assert answer_seven(['w','o','r','l','d']) == ['o','r','l','d']\n",
    "assert answer_seven(['h','e','l','l','o','o','o']) == ['l','o','o','o']"
   ]
  },
  {
   "cell_type": "markdown",
   "metadata": {},
   "source": [
    "#### 8. Suppose a tuple named test contains 5 elements. How can you set the 3rd element of the tuple to `Python`?\n",
    "A. `test(2) = 'Python'` <br>\n",
    "B. `test[2] = 'Python'` <br>\n",
    "C. `test[3] = 'Python'` <br>\n",
    "D. `Elements of tuple cannot be changed` <br>"
   ]
  },
  {
   "cell_type": "code",
   "execution_count": null,
   "metadata": {
    "nbgrader": {
     "grade": false,
     "grade_id": "cell-11a9ce99f17c0b43",
     "locked": false,
     "schema_version": 1,
     "solution": true
    }
   },
   "outputs": [],
   "source": [
    "def answer_eight():\n",
    "    '''return the letter of the correct answer'''\n",
    "    ### BEGIN SOLUTION\n",
    "    return 'D'\n",
    "    ### END SOLUTION"
   ]
  },
  {
   "cell_type": "code",
   "execution_count": null,
   "metadata": {
    "nbgrader": {
     "grade": true,
     "grade_id": "cell-b06655eddad1371d",
     "locked": true,
     "points": 5,
     "schema_version": 1,
     "solution": false
    }
   },
   "outputs": [],
   "source": [
    "################################\n",
    "### BEGIN HIDDEN TESTS\n",
    "assert answer_eight().upper() == 'D'\n",
    "### END HIDDEN TESTS"
   ]
  },
  {
   "cell_type": "markdown",
   "metadata": {},
   "source": [
    "#### 9. If `n='9'`, what is the value type of n? \n",
    "A. integer <br>\n",
    "B. string <br>\n",
    "C. tuple <br>\n",
    "D. list <br>"
   ]
  },
  {
   "cell_type": "code",
   "execution_count": null,
   "metadata": {
    "nbgrader": {
     "grade": false,
     "grade_id": "cell-0ed7a1b1dc77c5b6",
     "locked": false,
     "schema_version": 1,
     "solution": true
    }
   },
   "outputs": [],
   "source": [
    "def answer_nine():\n",
    "    '''return the letter of the correct answer'''\n",
    "    ### BEGIN SOLUTION\n",
    "    return 'B'\n",
    "    ### END SOLUTION"
   ]
  },
  {
   "cell_type": "code",
   "execution_count": null,
   "metadata": {
    "nbgrader": {
     "grade": true,
     "grade_id": "cell-46b764a9e1376dd5",
     "locked": true,
     "points": 5,
     "schema_version": 1,
     "solution": false
    }
   },
   "outputs": [],
   "source": [
    "################################\n",
    "### BEGIN HIDDEN TESTS\n",
    "assert answer_nine().upper() == 'B'\n",
    "### END HIDDEN TESTS"
   ]
  },
  {
   "cell_type": "markdown",
   "metadata": {},
   "source": [
    "#### 10. Which function is used to open a file for reading in python?\n",
    "A. `fopen(filename,'r')` <br>\n",
    "B. `open(filename,'r')`<br>\n",
    "C. `openfile(filename,'r')`<br>\n",
    "D. `open_file(filename,'r')`<br>"
   ]
  },
  {
   "cell_type": "code",
   "execution_count": null,
   "metadata": {
    "nbgrader": {
     "grade": false,
     "grade_id": "cell-5c68c0e1850b9b5b",
     "locked": false,
     "schema_version": 1,
     "solution": true
    }
   },
   "outputs": [],
   "source": [
    "def answer_ten():\n",
    "    '''return the letter of the correct answer'''\n",
    "    ### BEGIN SOLUTION\n",
    "    return 'B'\n",
    "    ### END SOLUTION"
   ]
  },
  {
   "cell_type": "code",
   "execution_count": null,
   "metadata": {
    "nbgrader": {
     "grade": true,
     "grade_id": "cell-44b97cc25f62f02b",
     "locked": true,
     "points": 5,
     "schema_version": 1,
     "solution": false
    }
   },
   "outputs": [],
   "source": [
    "################################\n",
    "### BEGIN HIDDEN TESTS\n",
    "assert answer_ten().upper() == 'B'\n",
    "### END HIDDEN TESTS"
   ]
  },
  {
   "cell_type": "markdown",
   "metadata": {},
   "source": [
    "#### 11. What keyword is used to create a function?\n",
    "A. `funtion` <br>\n",
    "B. `func` <br>\n",
    "C. `def` <br>\n",
    "D. `import` <br>"
   ]
  },
  {
   "cell_type": "code",
   "execution_count": null,
   "metadata": {
    "nbgrader": {
     "grade": false,
     "grade_id": "cell-6ac096ed5b8c73b0",
     "locked": false,
     "schema_version": 1,
     "solution": true
    }
   },
   "outputs": [],
   "source": [
    "def answer_eleven():\n",
    "    '''return the letter of the correct answer'''\n",
    "    ### BEGIN SOLUTION\n",
    "    return 'C'\n",
    "    ### END SOLUTION"
   ]
  },
  {
   "cell_type": "code",
   "execution_count": null,
   "metadata": {
    "nbgrader": {
     "grade": true,
     "grade_id": "cell-ece82f567fbb6b4a",
     "locked": true,
     "points": 5,
     "schema_version": 1,
     "solution": false
    }
   },
   "outputs": [],
   "source": [
    "################################\n",
    "### BEGIN HIDDEN TESTS\n",
    "assert answer_eleven().upper() == 'C'\n",
    "### END HIDDEN TESTS"
   ]
  },
  {
   "cell_type": "markdown",
   "metadata": {},
   "source": [
    "#### 12. which command returns the first element of the list `dat`?\n",
    "A. `dat[0]` <br>\n",
    "B. `dat[1]` <br>\n",
    "C. `dat[-1]` <br>\n",
    "D. `dat[1:]` <br>"
   ]
  },
  {
   "cell_type": "code",
   "execution_count": null,
   "metadata": {
    "nbgrader": {
     "grade": false,
     "grade_id": "cell-6d4936a19e1940a9",
     "locked": false,
     "schema_version": 1,
     "solution": true
    }
   },
   "outputs": [],
   "source": [
    "def answer_twelve():\n",
    "    '''return the letter of the correct answer'''\n",
    "    ### BEGIN SOLUTION\n",
    "    return 'A'\n",
    "    ### END SOLUTION"
   ]
  },
  {
   "cell_type": "code",
   "execution_count": null,
   "metadata": {
    "nbgrader": {
     "grade": true,
     "grade_id": "cell-764646aa7bee0b2b",
     "locked": true,
     "points": 5,
     "schema_version": 1,
     "solution": false
    }
   },
   "outputs": [],
   "source": [
    "################################\n",
    "### BEGIN HIDDEN TESTS\n",
    "assert answer_twelve().upper() == 'A'\n",
    "### END HIDDEN TESTS"
   ]
  },
  {
   "cell_type": "markdown",
   "metadata": {},
   "source": [
    "#### 13. In python, what is the correct method to load the math module?\n",
    "A. `include math` <br>\n",
    "B. `import math` <br>\n",
    "C. `using math` <br>\n",
    "D. `with math` <br>"
   ]
  },
  {
   "cell_type": "code",
   "execution_count": null,
   "metadata": {
    "nbgrader": {
     "grade": false,
     "grade_id": "cell-ec18f87055d44c7b",
     "locked": false,
     "schema_version": 1,
     "solution": true
    }
   },
   "outputs": [],
   "source": [
    "def answer_thirteen():\n",
    "    '''return the letter of the correct answer'''\n",
    "    ### BEGIN SOLUTION\n",
    "    return 'B'\n",
    "    ### END SOLUTION"
   ]
  },
  {
   "cell_type": "code",
   "execution_count": null,
   "metadata": {
    "nbgrader": {
     "grade": true,
     "grade_id": "cell-3d09beedf3a90706",
     "locked": true,
     "points": 5,
     "schema_version": 1,
     "solution": false
    }
   },
   "outputs": [],
   "source": [
    "################################\n",
    "### BEGIN HIDDEN TESTS\n",
    "assert answer_thirteen().upper() == 'B'\n",
    "### END HIDDEN TESTS"
   ]
  },
  {
   "cell_type": "markdown",
   "metadata": {},
   "source": [
    "#### 14. if `var1='Python'` what does `var1[-4:]` return?\n",
    "A. 'Py' <br>\n",
    "B. 'Python' <br>\n",
    "C. 'hon' <br>\n",
    "D. 'thon' <br>"
   ]
  },
  {
   "cell_type": "code",
   "execution_count": null,
   "metadata": {
    "nbgrader": {
     "grade": false,
     "grade_id": "cell-e58cada76ac96801",
     "locked": false,
     "schema_version": 1,
     "solution": true
    }
   },
   "outputs": [],
   "source": [
    "def answer_fourteen():\n",
    "    '''return the letter of the correct answer'''\n",
    "    ### BEGIN SOLUTION\n",
    "    return 'D'\n",
    "    ### END SOLUTION"
   ]
  },
  {
   "cell_type": "code",
   "execution_count": null,
   "metadata": {
    "nbgrader": {
     "grade": true,
     "grade_id": "cell-6cc36b400f239228",
     "locked": true,
     "points": 5,
     "schema_version": 1,
     "solution": false
    }
   },
   "outputs": [],
   "source": [
    "################################\n",
    "### BEGIN HIDDEN TESTS\n",
    "assert answer_fourteen().upper() == 'D'\n",
    "### END HIDDEN TESTS"
   ]
  },
  {
   "cell_type": "markdown",
   "metadata": {},
   "source": [
    "#### 15. Which of the following statement is true?\n",
    "A. A set is an unordered collection of items. <br>\n",
    "B. Elements of set are unique. <br>\n",
    "C. You can change elements of set unlike tuple. <br> \n",
    "D. All of the above. <br>"
   ]
  },
  {
   "cell_type": "code",
   "execution_count": 1,
   "metadata": {
    "nbgrader": {
     "grade": false,
     "grade_id": "cell-078605af72e43d98",
     "locked": false,
     "schema_version": 1,
     "solution": true
    }
   },
   "outputs": [],
   "source": [
    "def answer_fifteen():\n",
    "    '''return the letter of the correct answer'''\n",
    "    ### BEGIN SOLUTION\n",
    "    return 'D'\n",
    "    ### END SOLUTION"
   ]
  },
  {
   "cell_type": "code",
   "execution_count": null,
   "metadata": {
    "nbgrader": {
     "grade": true,
     "grade_id": "cell-1cf00a488f21e988",
     "locked": true,
     "points": 5,
     "schema_version": 1,
     "solution": false
    }
   },
   "outputs": [],
   "source": [
    "################################\n",
    "### BEGIN HIDDEN TESTS\n",
    "assert answer_fifteen().upper() == 'D'\n",
    "### END HIDDEN TESTS"
   ]
  },
  {
   "cell_type": "markdown",
   "metadata": {},
   "source": [
    "#### 16. What command will open a database connection in pandas?\n",
    "A. `pd.read_sql` <br>\n",
    "B. `pd.read_odbc` <br>\n",
    "C. `pd.read_database` <br>\n",
    "D. `pd.open_database` <br>"
   ]
  },
  {
   "cell_type": "code",
   "execution_count": 2,
   "metadata": {
    "nbgrader": {
     "grade": false,
     "grade_id": "cell-8f3ad757cccacdfb",
     "locked": false,
     "schema_version": 1,
     "solution": true
    }
   },
   "outputs": [],
   "source": [
    "def answer_sixteen():\n",
    "    '''return the letter of the correct answer'''\n",
    "    ### BEGIN SOLUTION\n",
    "    return 'A'\n",
    "    ### END SOLUTION"
   ]
  },
  {
   "cell_type": "code",
   "execution_count": null,
   "metadata": {
    "nbgrader": {
     "grade": true,
     "grade_id": "cell-7703fed1e39aaf30",
     "locked": true,
     "points": 5,
     "schema_version": 1,
     "solution": false
    }
   },
   "outputs": [],
   "source": [
    "################################\n",
    "### BEGIN HIDDEN TESTS\n",
    "assert answer_sixteen().upper() == 'A'\n",
    "### END HIDDEN TESTS"
   ]
  },
  {
   "cell_type": "markdown",
   "metadata": {},
   "source": [
    "#### 17. what command will return a unique group of a list (list1)?\n",
    "A. `distinct(list1)` <br>\n",
    "B. `set(list1)` <br>\n",
    "C. `unique(list1)` <br>\n",
    "D. `append(list1)` <br>"
   ]
  },
  {
   "cell_type": "code",
   "execution_count": 3,
   "metadata": {
    "nbgrader": {
     "grade": false,
     "grade_id": "cell-b79863cf86330a21",
     "locked": false,
     "schema_version": 1,
     "solution": true
    }
   },
   "outputs": [],
   "source": [
    "def answer_seventeen():\n",
    "    '''return the letter of the correct answer'''\n",
    "    ### BEGIN SOLUTION\n",
    "    return 'B'\n",
    "    ### END SOLUTION"
   ]
  },
  {
   "cell_type": "code",
   "execution_count": null,
   "metadata": {
    "nbgrader": {
     "grade": true,
     "grade_id": "cell-87598c5d5495175f",
     "locked": true,
     "points": 5,
     "schema_version": 1,
     "solution": false
    }
   },
   "outputs": [],
   "source": [
    "################################\n",
    "### BEGIN HIDDEN TESTS\n",
    "assert answer_seventeen().upper() == 'B'\n",
    "### END HIDDEN TESTS"
   ]
  },
  {
   "cell_type": "markdown",
   "metadata": {},
   "source": [
    "#### 18. How do you slice `['b', 'c']` from the list `t = ['a', b', 'c', 'd', 'e]`?\n",
    "A. `t[1:3]` <br>\n",
    "B. `t[1:]` <br>\n",
    "C. `t[1,2]` <br>\n",
    "D. `t[2]` <br>"
   ]
  },
  {
   "cell_type": "code",
   "execution_count": 4,
   "metadata": {
    "nbgrader": {
     "grade": false,
     "grade_id": "cell-79393eda8ab00220",
     "locked": false,
     "schema_version": 1,
     "solution": true
    }
   },
   "outputs": [],
   "source": [
    "def answer_eighteen():\n",
    "    '''return the letter of the correct answer'''\n",
    "    ### BEGIN SOLUTION\n",
    "    return 'A'\n",
    "    ### END SOLUTION"
   ]
  },
  {
   "cell_type": "code",
   "execution_count": 5,
   "metadata": {
    "nbgrader": {
     "grade": true,
     "grade_id": "cell-9c4702b98f03ab25",
     "locked": true,
     "points": 5,
     "schema_version": 1,
     "solution": false
    }
   },
   "outputs": [],
   "source": [
    "################################\n",
    "### BEGIN HIDDEN TESTS\n",
    "assert answer_eighteen().upper() == 'A'\n",
    "### END HIDDEN TESTS"
   ]
  },
  {
   "cell_type": "markdown",
   "metadata": {},
   "source": [
    "#### 19. How can you change `num = {‘one’: 1, ‘two’: 3}` to `num = {‘one’: 1, ‘two’: 2}`? \n",
    "A. `num[2] = 'two'` <br>\n",
    "B. `num[1] = 'two'` <br>\n",
    "C. `num['two'] = 2` <br>\n",
    "D. `num['two'] = '2'` <br>"
   ]
  },
  {
   "cell_type": "code",
   "execution_count": 6,
   "metadata": {
    "nbgrader": {
     "grade": false,
     "grade_id": "cell-188cddfb01e1c1b7",
     "locked": false,
     "schema_version": 1,
     "solution": true
    }
   },
   "outputs": [],
   "source": [
    "def answer_nineteen():\n",
    "    '''return the letter of the correct answer'''\n",
    "    ### BEGIN SOLUTION\n",
    "    return 'C'\n",
    "    ### END SOLUTION"
   ]
  },
  {
   "cell_type": "code",
   "execution_count": 7,
   "metadata": {
    "nbgrader": {
     "grade": true,
     "grade_id": "cell-2c6962bd26cb1460",
     "locked": true,
     "points": 5,
     "schema_version": 1,
     "solution": false
    }
   },
   "outputs": [],
   "source": [
    "################################\n",
    "### BEGIN HIDDEN TESTS\n",
    "assert answer_nineteen().upper() == 'C'\n",
    "### END HIDDEN TESTS"
   ]
  },
  {
   "cell_type": "markdown",
   "metadata": {},
   "source": [
    "#### 20. What is used to add a new element at the end of a list?\n",
    "A. `append()` <br>\n",
    "B. `add()` <br>\n",
    "C. `extend()` <br>\n",
    "D. `pop()` <br>"
   ]
  },
  {
   "cell_type": "code",
   "execution_count": 8,
   "metadata": {
    "nbgrader": {
     "grade": false,
     "grade_id": "cell-1e9ce5399e6caa91",
     "locked": false,
     "schema_version": 1,
     "solution": true
    }
   },
   "outputs": [],
   "source": [
    "def answer_twenty():\n",
    "    '''return the letter of the correct answer'''\n",
    "    ### BEGIN SOLUTION\n",
    "    return 'A'\n",
    "    ### END SOLUTION"
   ]
  },
  {
   "cell_type": "code",
   "execution_count": 9,
   "metadata": {
    "nbgrader": {
     "grade": true,
     "grade_id": "cell-e297fe00da2a6b6c",
     "locked": true,
     "points": 0,
     "schema_version": 1,
     "solution": false
    }
   },
   "outputs": [],
   "source": [
    "################################\n",
    "### BEGIN HIDDEN TESTS\n",
    "assert answer_twenty().upper() == 'A'\n",
    "### END HIDDEN TESTS"
   ]
  },
  {
   "cell_type": "code",
   "execution_count": null,
   "metadata": {},
   "outputs": [],
   "source": []
  }
 ],
 "metadata": {
  "celltoolbar": "Create Assignment",
  "kernelspec": {
   "display_name": "Python 3",
   "language": "python",
   "name": "python3"
  },
  "language_info": {
   "codemirror_mode": {
    "name": "ipython",
    "version": 3
   },
   "file_extension": ".py",
   "mimetype": "text/x-python",
   "name": "python",
   "nbconvert_exporter": "python",
   "pygments_lexer": "ipython3",
   "version": "3.6.8"
  }
 },
 "nbformat": 4,
 "nbformat_minor": 2
}
